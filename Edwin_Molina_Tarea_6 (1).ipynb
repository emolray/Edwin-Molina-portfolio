{
  "nbformat": 4,
  "nbformat_minor": 0,
  "metadata": {
    "colab": {
      "name": "Edwin_Molina_Tarea_6.ipynb",
      "provenance": []
    },
    "kernelspec": {
      "name": "python3",
      "display_name": "Python 3"
    },
    "language_info": {
      "name": "python"
    }
  },
  "cells": [
    {
      "cell_type": "markdown",
      "metadata": {
        "id": "ExduhRIBjsmt"
      },
      "source": [
        "## Tarea 6 - Fundamentos de Aprendizaje No Supervisado\n",
        "### Edwin Molina"
      ]
    },
    {
      "cell_type": "markdown",
      "metadata": {
        "id": "UaeVr-kPJk_j"
      },
      "source": [
        "### Primer problema dataset movies"
      ]
    },
    {
      "cell_type": "code",
      "metadata": {
        "id": "nMRGxGFtjlvo"
      },
      "source": [
        "# Importar bibliotecas\n",
        "\n",
        "import numpy as np\n",
        "import matplotlib.pyplot as plt\n",
        "import pandas as pd\n",
        "import seaborn as sns"
      ],
      "execution_count": null,
      "outputs": []
    },
    {
      "cell_type": "code",
      "metadata": {
        "id": "qXhdMO-KphvF"
      },
      "source": [
        "# Importar dataset\n",
        "\n",
        "datos_movies = pd.read_csv('/content/drive/MyDrive/PYTHON VERITAS/movies.csv', delimiter=',', engine = 'python')"
      ],
      "execution_count": null,
      "outputs": []
    },
    {
      "cell_type": "code",
      "metadata": {
        "id": "88aygdxLpyWD",
        "colab": {
          "base_uri": "https://localhost:8080/",
          "height": 379
        },
        "outputId": "d1961d7c-25e8-4ea4-88ce-34c1cc37d287"
      },
      "source": [
        "datos_movies.head(5)"
      ],
      "execution_count": null,
      "outputs": [
        {
          "output_type": "execute_result",
          "data": {
            "text/html": [
              "<div>\n",
              "<style scoped>\n",
              "    .dataframe tbody tr th:only-of-type {\n",
              "        vertical-align: middle;\n",
              "    }\n",
              "\n",
              "    .dataframe tbody tr th {\n",
              "        vertical-align: top;\n",
              "    }\n",
              "\n",
              "    .dataframe thead th {\n",
              "        text-align: right;\n",
              "    }\n",
              "</style>\n",
              "<table border=\"1\" class=\"dataframe\">\n",
              "  <thead>\n",
              "    <tr style=\"text-align: right;\">\n",
              "      <th></th>\n",
              "      <th>budget</th>\n",
              "      <th>company</th>\n",
              "      <th>country</th>\n",
              "      <th>director</th>\n",
              "      <th>genre</th>\n",
              "      <th>gross</th>\n",
              "      <th>name</th>\n",
              "      <th>rating</th>\n",
              "      <th>released</th>\n",
              "      <th>runtime</th>\n",
              "      <th>score</th>\n",
              "      <th>star</th>\n",
              "      <th>votes</th>\n",
              "      <th>writer</th>\n",
              "      <th>year</th>\n",
              "    </tr>\n",
              "  </thead>\n",
              "  <tbody>\n",
              "    <tr>\n",
              "      <th>0</th>\n",
              "      <td>8000000.0</td>\n",
              "      <td>Columbia Pictures Corporation</td>\n",
              "      <td>USA</td>\n",
              "      <td>Rob Reiner</td>\n",
              "      <td>Adventure</td>\n",
              "      <td>52287414.0</td>\n",
              "      <td>Stand by Me</td>\n",
              "      <td>R</td>\n",
              "      <td>1986-08-22</td>\n",
              "      <td>89</td>\n",
              "      <td>8.1</td>\n",
              "      <td>Wil Wheaton</td>\n",
              "      <td>299174</td>\n",
              "      <td>Stephen King</td>\n",
              "      <td>1986</td>\n",
              "    </tr>\n",
              "    <tr>\n",
              "      <th>1</th>\n",
              "      <td>6000000.0</td>\n",
              "      <td>Paramount Pictures</td>\n",
              "      <td>USA</td>\n",
              "      <td>John Hughes</td>\n",
              "      <td>Comedy</td>\n",
              "      <td>70136369.0</td>\n",
              "      <td>Ferris Bueller's Day Off</td>\n",
              "      <td>PG-13</td>\n",
              "      <td>1986-06-11</td>\n",
              "      <td>103</td>\n",
              "      <td>7.8</td>\n",
              "      <td>Matthew Broderick</td>\n",
              "      <td>264740</td>\n",
              "      <td>John Hughes</td>\n",
              "      <td>1986</td>\n",
              "    </tr>\n",
              "    <tr>\n",
              "      <th>2</th>\n",
              "      <td>15000000.0</td>\n",
              "      <td>Paramount Pictures</td>\n",
              "      <td>USA</td>\n",
              "      <td>Tony Scott</td>\n",
              "      <td>Action</td>\n",
              "      <td>179800601.0</td>\n",
              "      <td>Top Gun</td>\n",
              "      <td>PG</td>\n",
              "      <td>1986-05-16</td>\n",
              "      <td>110</td>\n",
              "      <td>6.9</td>\n",
              "      <td>Tom Cruise</td>\n",
              "      <td>236909</td>\n",
              "      <td>Jim Cash</td>\n",
              "      <td>1986</td>\n",
              "    </tr>\n",
              "    <tr>\n",
              "      <th>3</th>\n",
              "      <td>18500000.0</td>\n",
              "      <td>Twentieth Century Fox Film Corporation</td>\n",
              "      <td>USA</td>\n",
              "      <td>James Cameron</td>\n",
              "      <td>Action</td>\n",
              "      <td>85160248.0</td>\n",
              "      <td>Aliens</td>\n",
              "      <td>R</td>\n",
              "      <td>1986-07-18</td>\n",
              "      <td>137</td>\n",
              "      <td>8.4</td>\n",
              "      <td>Sigourney Weaver</td>\n",
              "      <td>540152</td>\n",
              "      <td>James Cameron</td>\n",
              "      <td>1986</td>\n",
              "    </tr>\n",
              "    <tr>\n",
              "      <th>4</th>\n",
              "      <td>9000000.0</td>\n",
              "      <td>Walt Disney Pictures</td>\n",
              "      <td>USA</td>\n",
              "      <td>Randal Kleiser</td>\n",
              "      <td>Adventure</td>\n",
              "      <td>18564613.0</td>\n",
              "      <td>Flight of the Navigator</td>\n",
              "      <td>PG</td>\n",
              "      <td>1986-08-01</td>\n",
              "      <td>90</td>\n",
              "      <td>6.9</td>\n",
              "      <td>Joey Cramer</td>\n",
              "      <td>36636</td>\n",
              "      <td>Mark H. Baker</td>\n",
              "      <td>1986</td>\n",
              "    </tr>\n",
              "  </tbody>\n",
              "</table>\n",
              "</div>"
            ],
            "text/plain": [
              "       budget                                 company  ...         writer  year\n",
              "0   8000000.0           Columbia Pictures Corporation  ...   Stephen King  1986\n",
              "1   6000000.0                      Paramount Pictures  ...    John Hughes  1986\n",
              "2  15000000.0                      Paramount Pictures  ...       Jim Cash  1986\n",
              "3  18500000.0  Twentieth Century Fox Film Corporation  ...  James Cameron  1986\n",
              "4   9000000.0                    Walt Disney Pictures  ...  Mark H. Baker  1986\n",
              "\n",
              "[5 rows x 15 columns]"
            ]
          },
          "metadata": {},
          "execution_count": 4
        }
      ]
    },
    {
      "cell_type": "code",
      "metadata": {
        "id": "S6llKJghxDkx",
        "colab": {
          "base_uri": "https://localhost:8080/"
        },
        "outputId": "e438f68b-b9bb-4d1a-ca61-0befc455cacb"
      },
      "source": [
        "# Verificacion de variables\n",
        "datos_movies.dtypes"
      ],
      "execution_count": null,
      "outputs": [
        {
          "output_type": "execute_result",
          "data": {
            "text/plain": [
              "budget      float64\n",
              "company      object\n",
              "country      object\n",
              "director     object\n",
              "genre        object\n",
              "gross       float64\n",
              "name         object\n",
              "rating       object\n",
              "released     object\n",
              "runtime       int64\n",
              "score       float64\n",
              "star         object\n",
              "votes         int64\n",
              "writer       object\n",
              "year          int64\n",
              "dtype: object"
            ]
          },
          "metadata": {},
          "execution_count": 5
        }
      ]
    },
    {
      "cell_type": "code",
      "metadata": {
        "id": "-hQk95OTDlsF"
      },
      "source": [
        "datos_movies['budget']=datos_movies['budget'].astype('int')"
      ],
      "execution_count": null,
      "outputs": []
    },
    {
      "cell_type": "code",
      "metadata": {
        "id": "ikZqkcRCFONL"
      },
      "source": [
        "datos_movies['gross']=datos_movies['gross'].astype('int')"
      ],
      "execution_count": null,
      "outputs": []
    },
    {
      "cell_type": "code",
      "metadata": {
        "colab": {
          "base_uri": "https://localhost:8080/"
        },
        "id": "2l_ZOKASFQ63",
        "outputId": "95388091-2983-434c-c754-89ff16bc9874"
      },
      "source": [
        "datos_movies.dtypes"
      ],
      "execution_count": null,
      "outputs": [
        {
          "output_type": "execute_result",
          "data": {
            "text/plain": [
              "budget        int64\n",
              "company      object\n",
              "country      object\n",
              "director     object\n",
              "genre        object\n",
              "gross         int64\n",
              "name         object\n",
              "rating       object\n",
              "released     object\n",
              "runtime       int64\n",
              "score       float64\n",
              "star         object\n",
              "votes         int64\n",
              "writer       object\n",
              "year          int64\n",
              "dtype: object"
            ]
          },
          "metadata": {},
          "execution_count": 8
        }
      ]
    },
    {
      "cell_type": "code",
      "metadata": {
        "colab": {
          "base_uri": "https://localhost:8080/",
          "height": 487
        },
        "id": "fjTt64IE9CvX",
        "outputId": "4b1e408e-780d-44b3-b388-2595c46d3e4e"
      },
      "source": [
        "# Matriz de Correlacion\n",
        "f,ax = plt.subplots(figsize = (8,8))\n",
        "sns.heatmap(datos_movies.corr(method = 'spearman'),annot=True,vmin=-1, vmax=1, center= 0)\n",
        "plt.show()"
      ],
      "execution_count": null,
      "outputs": [
        {
          "output_type": "display_data",
          "data": {
            "image/png": "[encoded data removed]",
            "text/plain": [
              "<Figure size 576x576 with 2 Axes>"
            ]
          },
          "metadata": {
            "needs_background": "light"
          }
        }
      ]
    },
    {
      "cell_type": "code",
      "metadata": {
        "id": "yvvnVQ1Q9HqS"
      },
      "source": [
        "# Extrayendo variables a utilizar, solamente 'budget' y 'gross'\n",
        "datos1 = datos_movies.iloc[:, [0,5]].values"
      ],
      "execution_count": null,
      "outputs": []
    },
    {
      "cell_type": "code",
      "metadata": {
        "colab": {
          "base_uri": "https://localhost:8080/"
        },
        "id": "CH4T05SN9P5h",
        "outputId": "b995b1d2-69e5-422d-c03e-e20dd8d20475"
      },
      "source": [
        "datos1"
      ],
      "execution_count": null,
      "outputs": [
        {
          "output_type": "execute_result",
          "data": {
            "text/plain": [
              "array([[  8000000,  52287414],\n",
              "       [  6000000,  70136369],\n",
              "       [ 15000000, 179800601],\n",
              "       ...,\n",
              "       [  3500000,   3775000],\n",
              "       [        0,     25981],\n",
              "       [        0,     37757]])"
            ]
          },
          "metadata": {},
          "execution_count": 11
        }
      ]
    },
    {
      "cell_type": "code",
      "metadata": {
        "id": "iZNM9uXm9Qim"
      },
      "source": [
        "# Reasignando variable para K-means\n",
        "X = datos1"
      ],
      "execution_count": null,
      "outputs": []
    },
    {
      "cell_type": "code",
      "metadata": {
        "id": "AR-70j5KF9oa"
      },
      "source": [
        "# K-means sin el codo de Jambu\n",
        "\n",
        "from sklearn.cluster import KMeans"
      ],
      "execution_count": null,
      "outputs": []
    },
    {
      "cell_type": "code",
      "metadata": {
        "id": "t432E2lAGDWM"
      },
      "source": [
        "kmeans = KMeans(n_clusters = 5,  init= 'k-means++', max_iter = 300, n_init = 10, random_state = 0)\n",
        "y_kmeans = kmeans.fit_predict(X)"
      ],
      "execution_count": null,
      "outputs": []
    },
    {
      "cell_type": "code",
      "metadata": {
        "colab": {
          "base_uri": "https://localhost:8080/",
          "height": 295
        },
        "id": "0mbVQtgXGhyq",
        "outputId": "2ac46ccb-6955-4c3f-d16f-6b16d3616942"
      },
      "source": [
        "# Visualizacion de plot de K-means\n",
        "\n",
        "plt.scatter(X[y_kmeans == 0, 0], X[y_kmeans == 0, 1], s = 100, c = 'red', label = 'C1') \n",
        "plt.scatter(X[y_kmeans == 1, 0], X[y_kmeans == 1, 1], s = 100, c = 'green', label = 'C2')\n",
        "plt.scatter(X[y_kmeans == 2, 0], X[y_kmeans == 2, 1], s = 100, c = 'blue', label = 'C3')\n",
        "plt.scatter(X[y_kmeans == 3, 0], X[y_kmeans == 3, 1], s = 100, c = 'grey', label = 'C4')\n",
        "plt.scatter(X[y_kmeans == 4, 0], X[y_kmeans == 4, 1], s = 100, c = 'yellow', label = 'C5')\n",
        "\n",
        "plt.title('Cluster presupuesto y recaudacion en bruto')\n",
        "plt.scatter(kmeans.cluster_centers_[:, 0], kmeans.cluster_centers_[:,1], s = 300, c = 'black', label = 'Centroides')\n",
        "plt.xlabel('X1: budget')\n",
        "plt.ylabel('X2: gross')\n",
        "plt.legend()\n",
        "plt.show()"
      ],
      "execution_count": null,
      "outputs": [
        {
          "output_type": "display_data",
          "data": {
            "image/png": "[encoded data removed]",
            "text/plain": [
              "<Figure size 432x288 with 1 Axes>"
            ]
          },
          "metadata": {
            "needs_background": "light"
          }
        }
      ]
    },
    {
      "cell_type": "markdown",
      "metadata": {
        "id": "SDnUxqNEJqHJ"
      },
      "source": [
        "Se observa dentro del grafico anterior 5 clusters analizados por las variable budget la cual representa el presupuesto que se tenia para la realizacion de las peliculas y la variable gross la cual representa el ingreso bruto de dichas peliculas. \n",
        "\n",
        "Se observa en el cluster # 1 de color rojo se encuentra con un ingreso entre 4 y 9, mientras que en budget se encuentra entre 0.3 y 2.6. El cluster # 2 de color verde se observa que de gross se encuentra entre 0 y 0.1 y de budget esta entre 0 y 0.5. El cluster # 3 de color azul en gross esta ubicado entre 1.7 y 2 mientras que en budget se encuentra entre 0 y 2.5. El cluster # 4 de color gris se ubica en gross entre 0.1 y 1.6, mientras que en budget se encuentra entre 0 y 1.6. Por ultimo el cluster # 5 de color amarillo se encuntran en gross desde 2.1 hasta 3.4 y en budger desde 0 hasta 3.0"
      ]
    },
    {
      "cell_type": "code",
      "metadata": {
        "id": "lzNd6ekrefxi"
      },
      "source": [
        ""
      ],
      "execution_count": null,
      "outputs": []
    }
  ]
}