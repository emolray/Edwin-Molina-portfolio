{
  "nbformat": 4,
  "nbformat_minor": 0,
  "metadata": {
    "colab": {
      "name": "Analisis_Exploratorio_de_datos.ipynb",
      "provenance": []
    },
    "kernelspec": {
      "name": "python3",
      "display_name": "Python 3"
    },
    "language_info": {
      "name": "python"
    }
  },
  "cells": [
    {
      "cell_type": "code",
      "metadata": {
        "id": "CV4ZsgHm4sGT"
      },
      "source": [
        "# EDA\n",
        "# Importar bibliotecas\n",
        "import numpy as np\n",
        "import pandas as pd\n",
        "import matplotlib.pyplot as plt\n",
        "import seaborn as sns\n",
        "sns.set()"
      ],
      "execution_count": null,
      "outputs": []
    },
    {
      "cell_type": "code",
      "metadata": {
        "id": "ampxa1y34_wA"
      },
      "source": [
        "# Import dataset\n",
        "\n",
        "data = pd.read_csv(\"/content/drive/MyDrive/PYTHON VERITAS/us-births.csv\", delimiter = \",\")"
      ],
      "execution_count": null,
      "outputs": []
    },
    {
      "cell_type": "code",
      "metadata": {
        "colab": {
          "base_uri": "https://localhost:8080/",
          "height": 206
        },
        "id": "dHSR19k_52nG",
        "outputId": "5fcf1945-fda5-4c30-c0df-ef6a47c75be3"
      },
      "source": [
        "data.head()"
      ],
      "execution_count": null,
      "outputs": [
        {
          "output_type": "execute_result",
          "data": {
            "text/html": [
              "<div>\n",
              "<style scoped>\n",
              "    .dataframe tbody tr th:only-of-type {\n",
              "        vertical-align: middle;\n",
              "    }\n",
              "\n",
              "    .dataframe tbody tr th {\n",
              "        vertical-align: top;\n",
              "    }\n",
              "\n",
              "    .dataframe thead th {\n",
              "        text-align: right;\n",
              "    }\n",
              "</style>\n",
              "<table border=\"1\" class=\"dataframe\">\n",
              "  <thead>\n",
              "    <tr style=\"text-align: right;\">\n",
              "      <th></th>\n",
              "      <th>year</th>\n",
              "      <th>month</th>\n",
              "      <th>day</th>\n",
              "      <th>gender</th>\n",
              "      <th>births</th>\n",
              "    </tr>\n",
              "  </thead>\n",
              "  <tbody>\n",
              "    <tr>\n",
              "      <th>0</th>\n",
              "      <td>1969</td>\n",
              "      <td>1</td>\n",
              "      <td>1.0</td>\n",
              "      <td>F</td>\n",
              "      <td>4046</td>\n",
              "    </tr>\n",
              "    <tr>\n",
              "      <th>1</th>\n",
              "      <td>1969</td>\n",
              "      <td>1</td>\n",
              "      <td>1.0</td>\n",
              "      <td>M</td>\n",
              "      <td>4440</td>\n",
              "    </tr>\n",
              "    <tr>\n",
              "      <th>2</th>\n",
              "      <td>1969</td>\n",
              "      <td>1</td>\n",
              "      <td>2.0</td>\n",
              "      <td>F</td>\n",
              "      <td>4454</td>\n",
              "    </tr>\n",
              "    <tr>\n",
              "      <th>3</th>\n",
              "      <td>1969</td>\n",
              "      <td>1</td>\n",
              "      <td>2.0</td>\n",
              "      <td>M</td>\n",
              "      <td>4548</td>\n",
              "    </tr>\n",
              "    <tr>\n",
              "      <th>4</th>\n",
              "      <td>1969</td>\n",
              "      <td>1</td>\n",
              "      <td>3.0</td>\n",
              "      <td>F</td>\n",
              "      <td>4548</td>\n",
              "    </tr>\n",
              "  </tbody>\n",
              "</table>\n",
              "</div>"
            ],
            "text/plain": [
              "   year  month  day gender  births\n",
              "0  1969      1  1.0      F    4046\n",
              "1  1969      1  1.0      M    4440\n",
              "2  1969      1  2.0      F    4454\n",
              "3  1969      1  2.0      M    4548\n",
              "4  1969      1  3.0      F    4548"
            ]
          },
          "metadata": {
            "tags": []
          },
          "execution_count": 3
        }
      ]
    },
    {
      "cell_type": "code",
      "metadata": {
        "colab": {
          "base_uri": "https://localhost:8080/"
        },
        "id": "zkI4D5qb54jX",
        "outputId": "e91eaa3f-7251-4b63-a101-acb14388a823"
      },
      "source": [
        "data.shape"
      ],
      "execution_count": null,
      "outputs": [
        {
          "output_type": "execute_result",
          "data": {
            "text/plain": [
              "(15547, 5)"
            ]
          },
          "metadata": {
            "tags": []
          },
          "execution_count": 5
        }
      ]
    },
    {
      "cell_type": "code",
      "metadata": {
        "colab": {
          "base_uri": "https://localhost:8080/"
        },
        "id": "rzwB22HA58Gh",
        "outputId": "75fd10fe-a3f1-4b16-a1fa-9c9376446043"
      },
      "source": [
        "data.dtypes"
      ],
      "execution_count": null,
      "outputs": [
        {
          "output_type": "execute_result",
          "data": {
            "text/plain": [
              "year        int64\n",
              "month       int64\n",
              "day       float64\n",
              "gender     object\n",
              "births      int64\n",
              "dtype: object"
            ]
          },
          "metadata": {
            "tags": []
          },
          "execution_count": 6
        }
      ]
    },
    {
      "cell_type": "code",
      "metadata": {
        "id": "M7JUwFZV69I_"
      },
      "source": [
        "# ******************EDA*********************"
      ],
      "execution_count": null,
      "outputs": []
    },
    {
      "cell_type": "code",
      "metadata": {
        "colab": {
          "base_uri": "https://localhost:8080/",
          "height": 1000
        },
        "id": "HskV0CYY7YQA",
        "outputId": "64b74bf8-48b7-4895-984d-0e03ab914fed"
      },
      "source": [
        "data.pivot_table('births', index = 'year', columns = 'gender', aggfunc = 'sum')"
      ],
      "execution_count": null,
      "outputs": [
        {
          "output_type": "execute_result",
          "data": {
            "text/html": [
              "<div>\n",
              "<style scoped>\n",
              "    .dataframe tbody tr th:only-of-type {\n",
              "        vertical-align: middle;\n",
              "    }\n",
              "\n",
              "    .dataframe tbody tr th {\n",
              "        vertical-align: top;\n",
              "    }\n",
              "\n",
              "    .dataframe thead th {\n",
              "        text-align: right;\n",
              "    }\n",
              "</style>\n",
              "<table border=\"1\" class=\"dataframe\">\n",
              "  <thead>\n",
              "    <tr style=\"text-align: right;\">\n",
              "      <th>gender</th>\n",
              "      <th>F</th>\n",
              "      <th>M</th>\n",
              "    </tr>\n",
              "    <tr>\n",
              "      <th>year</th>\n",
              "      <th></th>\n",
              "      <th></th>\n",
              "    </tr>\n",
              "  </thead>\n",
              "  <tbody>\n",
              "    <tr>\n",
              "      <th>1969</th>\n",
              "      <td>1753634</td>\n",
              "      <td>1846572</td>\n",
              "    </tr>\n",
              "    <tr>\n",
              "      <th>1970</th>\n",
              "      <td>1819164</td>\n",
              "      <td>1918636</td>\n",
              "    </tr>\n",
              "    <tr>\n",
              "      <th>1971</th>\n",
              "      <td>1736774</td>\n",
              "      <td>1826774</td>\n",
              "    </tr>\n",
              "    <tr>\n",
              "      <th>1972</th>\n",
              "      <td>1592347</td>\n",
              "      <td>1673888</td>\n",
              "    </tr>\n",
              "    <tr>\n",
              "      <th>1973</th>\n",
              "      <td>1533102</td>\n",
              "      <td>1613023</td>\n",
              "    </tr>\n",
              "    <tr>\n",
              "      <th>1974</th>\n",
              "      <td>1543005</td>\n",
              "      <td>1627626</td>\n",
              "    </tr>\n",
              "    <tr>\n",
              "      <th>1975</th>\n",
              "      <td>1535546</td>\n",
              "      <td>1618010</td>\n",
              "    </tr>\n",
              "    <tr>\n",
              "      <th>1976</th>\n",
              "      <td>1547613</td>\n",
              "      <td>1628863</td>\n",
              "    </tr>\n",
              "    <tr>\n",
              "      <th>1977</th>\n",
              "      <td>1623363</td>\n",
              "      <td>1708796</td>\n",
              "    </tr>\n",
              "    <tr>\n",
              "      <th>1978</th>\n",
              "      <td>1626324</td>\n",
              "      <td>1711976</td>\n",
              "    </tr>\n",
              "    <tr>\n",
              "      <th>1979</th>\n",
              "      <td>1705837</td>\n",
              "      <td>1793958</td>\n",
              "    </tr>\n",
              "    <tr>\n",
              "      <th>1980</th>\n",
              "      <td>1762459</td>\n",
              "      <td>1855522</td>\n",
              "    </tr>\n",
              "    <tr>\n",
              "      <th>1981</th>\n",
              "      <td>1772037</td>\n",
              "      <td>1863478</td>\n",
              "    </tr>\n",
              "    <tr>\n",
              "      <th>1982</th>\n",
              "      <td>1797239</td>\n",
              "      <td>1888218</td>\n",
              "    </tr>\n",
              "    <tr>\n",
              "      <th>1983</th>\n",
              "      <td>1775299</td>\n",
              "      <td>1867522</td>\n",
              "    </tr>\n",
              "    <tr>\n",
              "      <th>1984</th>\n",
              "      <td>1791802</td>\n",
              "      <td>1881766</td>\n",
              "    </tr>\n",
              "    <tr>\n",
              "      <th>1985</th>\n",
              "      <td>1834774</td>\n",
              "      <td>1930290</td>\n",
              "    </tr>\n",
              "    <tr>\n",
              "      <th>1986</th>\n",
              "      <td>1833708</td>\n",
              "      <td>1926987</td>\n",
              "    </tr>\n",
              "    <tr>\n",
              "      <th>1987</th>\n",
              "      <td>1860111</td>\n",
              "      <td>1953105</td>\n",
              "    </tr>\n",
              "    <tr>\n",
              "      <th>1988</th>\n",
              "      <td>1909210</td>\n",
              "      <td>2004583</td>\n",
              "    </tr>\n",
              "    <tr>\n",
              "      <th>1989</th>\n",
              "      <td>1973712</td>\n",
              "      <td>2071981</td>\n",
              "    </tr>\n",
              "    <tr>\n",
              "      <th>1990</th>\n",
              "      <td>2030966</td>\n",
              "      <td>2131951</td>\n",
              "    </tr>\n",
              "    <tr>\n",
              "      <th>1991</th>\n",
              "      <td>2011601</td>\n",
              "      <td>2103741</td>\n",
              "    </tr>\n",
              "    <tr>\n",
              "      <th>1992</th>\n",
              "      <td>1985118</td>\n",
              "      <td>2084310</td>\n",
              "    </tr>\n",
              "    <tr>\n",
              "      <th>1993</th>\n",
              "      <td>1953456</td>\n",
              "      <td>2051067</td>\n",
              "    </tr>\n",
              "    <tr>\n",
              "      <th>1994</th>\n",
              "      <td>1932234</td>\n",
              "      <td>2024691</td>\n",
              "    </tr>\n",
              "    <tr>\n",
              "      <th>1995</th>\n",
              "      <td>1904871</td>\n",
              "      <td>1998141</td>\n",
              "    </tr>\n",
              "    <tr>\n",
              "      <th>1996</th>\n",
              "      <td>1902664</td>\n",
              "      <td>1992210</td>\n",
              "    </tr>\n",
              "    <tr>\n",
              "      <th>1997</th>\n",
              "      <td>1896928</td>\n",
              "      <td>1987401</td>\n",
              "    </tr>\n",
              "    <tr>\n",
              "      <th>1998</th>\n",
              "      <td>1927106</td>\n",
              "      <td>2018086</td>\n",
              "    </tr>\n",
              "    <tr>\n",
              "      <th>1999</th>\n",
              "      <td>1934510</td>\n",
              "      <td>2028955</td>\n",
              "    </tr>\n",
              "    <tr>\n",
              "      <th>2000</th>\n",
              "      <td>1984255</td>\n",
              "      <td>2079568</td>\n",
              "    </tr>\n",
              "    <tr>\n",
              "      <th>2001</th>\n",
              "      <td>1970770</td>\n",
              "      <td>2060761</td>\n",
              "    </tr>\n",
              "    <tr>\n",
              "      <th>2002</th>\n",
              "      <td>1966519</td>\n",
              "      <td>2060857</td>\n",
              "    </tr>\n",
              "    <tr>\n",
              "      <th>2003</th>\n",
              "      <td>1999387</td>\n",
              "      <td>2096705</td>\n",
              "    </tr>\n",
              "    <tr>\n",
              "      <th>2004</th>\n",
              "      <td>2010710</td>\n",
              "      <td>2108197</td>\n",
              "    </tr>\n",
              "    <tr>\n",
              "      <th>2005</th>\n",
              "      <td>2022892</td>\n",
              "      <td>2122727</td>\n",
              "    </tr>\n",
              "    <tr>\n",
              "      <th>2006</th>\n",
              "      <td>2084957</td>\n",
              "      <td>2188268</td>\n",
              "    </tr>\n",
              "    <tr>\n",
              "      <th>2007</th>\n",
              "      <td>2111890</td>\n",
              "      <td>2212118</td>\n",
              "    </tr>\n",
              "    <tr>\n",
              "      <th>2008</th>\n",
              "      <td>2077929</td>\n",
              "      <td>2177227</td>\n",
              "    </tr>\n",
              "  </tbody>\n",
              "</table>\n",
              "</div>"
            ],
            "text/plain": [
              "gender        F        M\n",
              "year                    \n",
              "1969    1753634  1846572\n",
              "1970    1819164  1918636\n",
              "1971    1736774  1826774\n",
              "1972    1592347  1673888\n",
              "1973    1533102  1613023\n",
              "1974    1543005  1627626\n",
              "1975    1535546  1618010\n",
              "1976    1547613  1628863\n",
              "1977    1623363  1708796\n",
              "1978    1626324  1711976\n",
              "1979    1705837  1793958\n",
              "1980    1762459  1855522\n",
              "1981    1772037  1863478\n",
              "1982    1797239  1888218\n",
              "1983    1775299  1867522\n",
              "1984    1791802  1881766\n",
              "1985    1834774  1930290\n",
              "1986    1833708  1926987\n",
              "1987    1860111  1953105\n",
              "1988    1909210  2004583\n",
              "1989    1973712  2071981\n",
              "1990    2030966  2131951\n",
              "1991    2011601  2103741\n",
              "1992    1985118  2084310\n",
              "1993    1953456  2051067\n",
              "1994    1932234  2024691\n",
              "1995    1904871  1998141\n",
              "1996    1902664  1992210\n",
              "1997    1896928  1987401\n",
              "1998    1927106  2018086\n",
              "1999    1934510  2028955\n",
              "2000    1984255  2079568\n",
              "2001    1970770  2060761\n",
              "2002    1966519  2060857\n",
              "2003    1999387  2096705\n",
              "2004    2010710  2108197\n",
              "2005    2022892  2122727\n",
              "2006    2084957  2188268\n",
              "2007    2111890  2212118\n",
              "2008    2077929  2177227"
            ]
          },
          "metadata": {
            "tags": []
          },
          "execution_count": 8
        }
      ]
    },
    {
      "cell_type": "code",
      "metadata": {
        "colab": {
          "base_uri": "https://localhost:8080/",
          "height": 319
        },
        "id": "N19yJsav8xvU",
        "outputId": "f484c1ff-9af0-4f6f-f03c-a580593c502a"
      },
      "source": [
        "# Representacion visual\n",
        "\n",
        "plt.figure(figsize=(25,25))\n",
        "data.pivot_table('births', index = 'year', columns = 'gender', aggfunc = 'sum').plot()\n",
        "plt.title(\"Estudio de nacimientos del periodo 1969 al 2008\")\n",
        "plt.ylabel(\"Total de nacimientos por años\")\n",
        "plt.xlabel(\"Años en estudio\")\n",
        "plt.show()"
      ],
      "execution_count": null,
      "outputs": [
        {
          "output_type": "display_data",
          "data": {
            "text/plain": [
              "<Figure size 1800x1800 with 0 Axes>"
            ]
          },
          "metadata": {
            "tags": []
          }
        },
        {
          "output_type": "display_data",
          "data": {
            "image/png": "[encoded data removed]",
            "text/plain": [
              "<Figure size 432x288 with 1 Axes>"
            ]
          },
          "metadata": {
            "tags": [],
            "needs_background": "light"
          }
        }
      ]
    },
    {
      "cell_type": "code",
      "metadata": {
        "colab": {
          "base_uri": "https://localhost:8080/",
          "height": 297
        },
        "id": "Mujtxjlo915c",
        "outputId": "ed9fe771-f6c0-4717-f6a0-bf7ccd7419e1"
      },
      "source": [
        "data.pivot_table('births', index = 'year', columns = 'gender', aggfunc = 'sum').hist()\n",
        "plt.show()"
      ],
      "execution_count": null,
      "outputs": [
        {
          "output_type": "display_data",
          "data": {
            "image/png": "[encoded data removed]",
            "text/plain": [
              "<Figure size 432x288 with 2 Axes>"
            ]
          },
          "metadata": {
            "tags": [],
            "needs_background": "light"
          }
        }
      ]
    },
    {
      "cell_type": "code",
      "metadata": {
        "colab": {
          "base_uri": "https://localhost:8080/",
          "height": 1000
        },
        "id": "8bx03opI-WAL",
        "outputId": "247c884e-cb94-4f1d-e6e3-538d389507aa"
      },
      "source": [
        "data.pivot_table('births', index = 'year', columns = 'gender', aggfunc = 'min')"
      ],
      "execution_count": null,
      "outputs": [
        {
          "output_type": "execute_result",
          "data": {
            "text/html": [
              "<div>\n",
              "<style scoped>\n",
              "    .dataframe tbody tr th:only-of-type {\n",
              "        vertical-align: middle;\n",
              "    }\n",
              "\n",
              "    .dataframe tbody tr th {\n",
              "        vertical-align: top;\n",
              "    }\n",
              "\n",
              "    .dataframe thead th {\n",
              "        text-align: right;\n",
              "    }\n",
              "</style>\n",
              "<table border=\"1\" class=\"dataframe\">\n",
              "  <thead>\n",
              "    <tr style=\"text-align: right;\">\n",
              "      <th>gender</th>\n",
              "      <th>F</th>\n",
              "      <th>M</th>\n",
              "    </tr>\n",
              "    <tr>\n",
              "      <th>year</th>\n",
              "      <th></th>\n",
              "      <th></th>\n",
              "    </tr>\n",
              "  </thead>\n",
              "  <tbody>\n",
              "    <tr>\n",
              "      <th>1969</th>\n",
              "      <td>20</td>\n",
              "      <td>16</td>\n",
              "    </tr>\n",
              "    <tr>\n",
              "      <th>1970</th>\n",
              "      <td>8</td>\n",
              "      <td>6</td>\n",
              "    </tr>\n",
              "    <tr>\n",
              "      <th>1971</th>\n",
              "      <td>2</td>\n",
              "      <td>2</td>\n",
              "    </tr>\n",
              "    <tr>\n",
              "      <th>1972</th>\n",
              "      <td>2</td>\n",
              "      <td>2</td>\n",
              "    </tr>\n",
              "    <tr>\n",
              "      <th>1973</th>\n",
              "      <td>2</td>\n",
              "      <td>2</td>\n",
              "    </tr>\n",
              "    <tr>\n",
              "      <th>1974</th>\n",
              "      <td>2</td>\n",
              "      <td>2</td>\n",
              "    </tr>\n",
              "    <tr>\n",
              "      <th>1975</th>\n",
              "      <td>1</td>\n",
              "      <td>1</td>\n",
              "    </tr>\n",
              "    <tr>\n",
              "      <th>1976</th>\n",
              "      <td>1</td>\n",
              "      <td>1</td>\n",
              "    </tr>\n",
              "    <tr>\n",
              "      <th>1977</th>\n",
              "      <td>1</td>\n",
              "      <td>1</td>\n",
              "    </tr>\n",
              "    <tr>\n",
              "      <th>1978</th>\n",
              "      <td>2</td>\n",
              "      <td>1</td>\n",
              "    </tr>\n",
              "    <tr>\n",
              "      <th>1979</th>\n",
              "      <td>1</td>\n",
              "      <td>1</td>\n",
              "    </tr>\n",
              "    <tr>\n",
              "      <th>1980</th>\n",
              "      <td>1</td>\n",
              "      <td>2</td>\n",
              "    </tr>\n",
              "    <tr>\n",
              "      <th>1981</th>\n",
              "      <td>1</td>\n",
              "      <td>1</td>\n",
              "    </tr>\n",
              "    <tr>\n",
              "      <th>1982</th>\n",
              "      <td>2</td>\n",
              "      <td>2</td>\n",
              "    </tr>\n",
              "    <tr>\n",
              "      <th>1983</th>\n",
              "      <td>2</td>\n",
              "      <td>2</td>\n",
              "    </tr>\n",
              "    <tr>\n",
              "      <th>1984</th>\n",
              "      <td>1</td>\n",
              "      <td>1</td>\n",
              "    </tr>\n",
              "    <tr>\n",
              "      <th>1985</th>\n",
              "      <td>1</td>\n",
              "      <td>1</td>\n",
              "    </tr>\n",
              "    <tr>\n",
              "      <th>1986</th>\n",
              "      <td>1</td>\n",
              "      <td>1</td>\n",
              "    </tr>\n",
              "    <tr>\n",
              "      <th>1987</th>\n",
              "      <td>1</td>\n",
              "      <td>3</td>\n",
              "    </tr>\n",
              "    <tr>\n",
              "      <th>1988</th>\n",
              "      <td>1</td>\n",
              "      <td>1</td>\n",
              "    </tr>\n",
              "    <tr>\n",
              "      <th>1989</th>\n",
              "      <td>146710</td>\n",
              "      <td>154047</td>\n",
              "    </tr>\n",
              "    <tr>\n",
              "      <th>1990</th>\n",
              "      <td>153015</td>\n",
              "      <td>159915</td>\n",
              "    </tr>\n",
              "    <tr>\n",
              "      <th>1991</th>\n",
              "      <td>151260</td>\n",
              "      <td>158163</td>\n",
              "    </tr>\n",
              "    <tr>\n",
              "      <th>1992</th>\n",
              "      <td>154333</td>\n",
              "      <td>161410</td>\n",
              "    </tr>\n",
              "    <tr>\n",
              "      <th>1993</th>\n",
              "      <td>148569</td>\n",
              "      <td>156378</td>\n",
              "    </tr>\n",
              "    <tr>\n",
              "      <th>1994</th>\n",
              "      <td>147453</td>\n",
              "      <td>154175</td>\n",
              "    </tr>\n",
              "    <tr>\n",
              "      <th>1995</th>\n",
              "      <td>144485</td>\n",
              "      <td>150879</td>\n",
              "    </tr>\n",
              "    <tr>\n",
              "      <th>1996</th>\n",
              "      <td>147336</td>\n",
              "      <td>154683</td>\n",
              "    </tr>\n",
              "    <tr>\n",
              "      <th>1997</th>\n",
              "      <td>142259</td>\n",
              "      <td>149536</td>\n",
              "    </tr>\n",
              "    <tr>\n",
              "      <th>1998</th>\n",
              "      <td>146310</td>\n",
              "      <td>152641</td>\n",
              "    </tr>\n",
              "    <tr>\n",
              "      <th>1999</th>\n",
              "      <td>145172</td>\n",
              "      <td>152660</td>\n",
              "    </tr>\n",
              "    <tr>\n",
              "      <th>2000</th>\n",
              "      <td>154694</td>\n",
              "      <td>162495</td>\n",
              "    </tr>\n",
              "    <tr>\n",
              "      <th>2001</th>\n",
              "      <td>148640</td>\n",
              "      <td>155259</td>\n",
              "    </tr>\n",
              "    <tr>\n",
              "      <th>2002</th>\n",
              "      <td>148745</td>\n",
              "      <td>155627</td>\n",
              "    </tr>\n",
              "    <tr>\n",
              "      <th>2003</th>\n",
              "      <td>150278</td>\n",
              "      <td>157384</td>\n",
              "    </tr>\n",
              "    <tr>\n",
              "      <th>2004</th>\n",
              "      <td>154712</td>\n",
              "      <td>161598</td>\n",
              "    </tr>\n",
              "    <tr>\n",
              "      <th>2005</th>\n",
              "      <td>151342</td>\n",
              "      <td>158754</td>\n",
              "    </tr>\n",
              "    <tr>\n",
              "      <th>2006</th>\n",
              "      <td>156281</td>\n",
              "      <td>163564</td>\n",
              "    </tr>\n",
              "    <tr>\n",
              "      <th>2007</th>\n",
              "      <td>159887</td>\n",
              "      <td>167507</td>\n",
              "    </tr>\n",
              "    <tr>\n",
              "      <th>2008</th>\n",
              "      <td>158939</td>\n",
              "      <td>165468</td>\n",
              "    </tr>\n",
              "  </tbody>\n",
              "</table>\n",
              "</div>"
            ],
            "text/plain": [
              "gender       F       M\n",
              "year                  \n",
              "1969        20      16\n",
              "1970         8       6\n",
              "1971         2       2\n",
              "1972         2       2\n",
              "1973         2       2\n",
              "1974         2       2\n",
              "1975         1       1\n",
              "1976         1       1\n",
              "1977         1       1\n",
              "1978         2       1\n",
              "1979         1       1\n",
              "1980         1       2\n",
              "1981         1       1\n",
              "1982         2       2\n",
              "1983         2       2\n",
              "1984         1       1\n",
              "1985         1       1\n",
              "1986         1       1\n",
              "1987         1       3\n",
              "1988         1       1\n",
              "1989    146710  154047\n",
              "1990    153015  159915\n",
              "1991    151260  158163\n",
              "1992    154333  161410\n",
              "1993    148569  156378\n",
              "1994    147453  154175\n",
              "1995    144485  150879\n",
              "1996    147336  154683\n",
              "1997    142259  149536\n",
              "1998    146310  152641\n",
              "1999    145172  152660\n",
              "2000    154694  162495\n",
              "2001    148640  155259\n",
              "2002    148745  155627\n",
              "2003    150278  157384\n",
              "2004    154712  161598\n",
              "2005    151342  158754\n",
              "2006    156281  163564\n",
              "2007    159887  167507\n",
              "2008    158939  165468"
            ]
          },
          "metadata": {
            "tags": []
          },
          "execution_count": 11
        }
      ]
    },
    {
      "cell_type": "code",
      "metadata": {
        "colab": {
          "base_uri": "https://localhost:8080/",
          "height": 1000
        },
        "id": "FQ3wiz0G-rNK",
        "outputId": "a8fae933-1bfc-464b-bb90-676f1e3ff507"
      },
      "source": [
        "data.pivot_table('births', index = 'year', columns = 'gender', aggfunc = 'max')"
      ],
      "execution_count": null,
      "outputs": [
        {
          "output_type": "execute_result",
          "data": {
            "text/html": [
              "<div>\n",
              "<style scoped>\n",
              "    .dataframe tbody tr th:only-of-type {\n",
              "        vertical-align: middle;\n",
              "    }\n",
              "\n",
              "    .dataframe tbody tr th {\n",
              "        vertical-align: top;\n",
              "    }\n",
              "\n",
              "    .dataframe thead th {\n",
              "        text-align: right;\n",
              "    }\n",
              "</style>\n",
              "<table border=\"1\" class=\"dataframe\">\n",
              "  <thead>\n",
              "    <tr style=\"text-align: right;\">\n",
              "      <th>gender</th>\n",
              "      <th>F</th>\n",
              "      <th>M</th>\n",
              "    </tr>\n",
              "    <tr>\n",
              "      <th>year</th>\n",
              "      <th></th>\n",
              "      <th></th>\n",
              "    </tr>\n",
              "  </thead>\n",
              "  <tbody>\n",
              "    <tr>\n",
              "      <th>1969</th>\n",
              "      <td>5988</td>\n",
              "      <td>6244</td>\n",
              "    </tr>\n",
              "    <tr>\n",
              "      <th>1970</th>\n",
              "      <td>6204</td>\n",
              "      <td>6480</td>\n",
              "    </tr>\n",
              "    <tr>\n",
              "      <th>1971</th>\n",
              "      <td>5548</td>\n",
              "      <td>5924</td>\n",
              "    </tr>\n",
              "    <tr>\n",
              "      <th>1972</th>\n",
              "      <td>5038</td>\n",
              "      <td>5296</td>\n",
              "    </tr>\n",
              "    <tr>\n",
              "      <th>1973</th>\n",
              "      <td>4878</td>\n",
              "      <td>5211</td>\n",
              "    </tr>\n",
              "    <tr>\n",
              "      <th>1974</th>\n",
              "      <td>5156</td>\n",
              "      <td>5420</td>\n",
              "    </tr>\n",
              "    <tr>\n",
              "      <th>1975</th>\n",
              "      <td>4942</td>\n",
              "      <td>5204</td>\n",
              "    </tr>\n",
              "    <tr>\n",
              "      <th>1976</th>\n",
              "      <td>5075</td>\n",
              "      <td>5265</td>\n",
              "    </tr>\n",
              "    <tr>\n",
              "      <th>1977</th>\n",
              "      <td>5302</td>\n",
              "      <td>5460</td>\n",
              "    </tr>\n",
              "    <tr>\n",
              "      <th>1978</th>\n",
              "      <td>5332</td>\n",
              "      <td>5499</td>\n",
              "    </tr>\n",
              "    <tr>\n",
              "      <th>1979</th>\n",
              "      <td>5493</td>\n",
              "      <td>5720</td>\n",
              "    </tr>\n",
              "    <tr>\n",
              "      <th>1980</th>\n",
              "      <td>5667</td>\n",
              "      <td>6055</td>\n",
              "    </tr>\n",
              "    <tr>\n",
              "      <th>1981</th>\n",
              "      <td>5640</td>\n",
              "      <td>6057</td>\n",
              "    </tr>\n",
              "    <tr>\n",
              "      <th>1982</th>\n",
              "      <td>5872</td>\n",
              "      <td>6125</td>\n",
              "    </tr>\n",
              "    <tr>\n",
              "      <th>1983</th>\n",
              "      <td>5742</td>\n",
              "      <td>5893</td>\n",
              "    </tr>\n",
              "    <tr>\n",
              "      <th>1984</th>\n",
              "      <td>6021</td>\n",
              "      <td>6250</td>\n",
              "    </tr>\n",
              "    <tr>\n",
              "      <th>1985</th>\n",
              "      <td>6191</td>\n",
              "      <td>6315</td>\n",
              "    </tr>\n",
              "    <tr>\n",
              "      <th>1986</th>\n",
              "      <td>6056</td>\n",
              "      <td>6379</td>\n",
              "    </tr>\n",
              "    <tr>\n",
              "      <th>1987</th>\n",
              "      <td>6028</td>\n",
              "      <td>6471</td>\n",
              "    </tr>\n",
              "    <tr>\n",
              "      <th>1988</th>\n",
              "      <td>6332</td>\n",
              "      <td>6527</td>\n",
              "    </tr>\n",
              "    <tr>\n",
              "      <th>1989</th>\n",
              "      <td>178986</td>\n",
              "      <td>188074</td>\n",
              "    </tr>\n",
              "    <tr>\n",
              "      <th>1990</th>\n",
              "      <td>181845</td>\n",
              "      <td>191101</td>\n",
              "    </tr>\n",
              "    <tr>\n",
              "      <th>1991</th>\n",
              "      <td>179729</td>\n",
              "      <td>187491</td>\n",
              "    </tr>\n",
              "    <tr>\n",
              "      <th>1992</th>\n",
              "      <td>175090</td>\n",
              "      <td>184407</td>\n",
              "    </tr>\n",
              "    <tr>\n",
              "      <th>1993</th>\n",
              "      <td>171888</td>\n",
              "      <td>181061</td>\n",
              "    </tr>\n",
              "    <tr>\n",
              "      <th>1994</th>\n",
              "      <td>172383</td>\n",
              "      <td>180197</td>\n",
              "    </tr>\n",
              "    <tr>\n",
              "      <th>1995</th>\n",
              "      <td>171158</td>\n",
              "      <td>179864</td>\n",
              "    </tr>\n",
              "    <tr>\n",
              "      <th>1996</th>\n",
              "      <td>169237</td>\n",
              "      <td>177393</td>\n",
              "    </tr>\n",
              "    <tr>\n",
              "      <th>1997</th>\n",
              "      <td>169391</td>\n",
              "      <td>177423</td>\n",
              "    </tr>\n",
              "    <tr>\n",
              "      <th>1998</th>\n",
              "      <td>170376</td>\n",
              "      <td>178616</td>\n",
              "    </tr>\n",
              "    <tr>\n",
              "      <th>1999</th>\n",
              "      <td>171718</td>\n",
              "      <td>180033</td>\n",
              "    </tr>\n",
              "    <tr>\n",
              "      <th>2000</th>\n",
              "      <td>176508</td>\n",
              "      <td>184030</td>\n",
              "    </tr>\n",
              "    <tr>\n",
              "      <th>2001</th>\n",
              "      <td>177031</td>\n",
              "      <td>185351</td>\n",
              "    </tr>\n",
              "    <tr>\n",
              "      <th>2002</th>\n",
              "      <td>175501</td>\n",
              "      <td>184444</td>\n",
              "    </tr>\n",
              "    <tr>\n",
              "      <th>2003</th>\n",
              "      <td>177755</td>\n",
              "      <td>187045</td>\n",
              "    </tr>\n",
              "    <tr>\n",
              "      <th>2004</th>\n",
              "      <td>175457</td>\n",
              "      <td>184593</td>\n",
              "    </tr>\n",
              "    <tr>\n",
              "      <th>2005</th>\n",
              "      <td>180446</td>\n",
              "      <td>189599</td>\n",
              "    </tr>\n",
              "    <tr>\n",
              "      <th>2006</th>\n",
              "      <td>189539</td>\n",
              "      <td>198942</td>\n",
              "    </tr>\n",
              "    <tr>\n",
              "      <th>2007</th>\n",
              "      <td>191495</td>\n",
              "      <td>199622</td>\n",
              "    </tr>\n",
              "    <tr>\n",
              "      <th>2008</th>\n",
              "      <td>183391</td>\n",
              "      <td>192714</td>\n",
              "    </tr>\n",
              "  </tbody>\n",
              "</table>\n",
              "</div>"
            ],
            "text/plain": [
              "gender       F       M\n",
              "year                  \n",
              "1969      5988    6244\n",
              "1970      6204    6480\n",
              "1971      5548    5924\n",
              "1972      5038    5296\n",
              "1973      4878    5211\n",
              "1974      5156    5420\n",
              "1975      4942    5204\n",
              "1976      5075    5265\n",
              "1977      5302    5460\n",
              "1978      5332    5499\n",
              "1979      5493    5720\n",
              "1980      5667    6055\n",
              "1981      5640    6057\n",
              "1982      5872    6125\n",
              "1983      5742    5893\n",
              "1984      6021    6250\n",
              "1985      6191    6315\n",
              "1986      6056    6379\n",
              "1987      6028    6471\n",
              "1988      6332    6527\n",
              "1989    178986  188074\n",
              "1990    181845  191101\n",
              "1991    179729  187491\n",
              "1992    175090  184407\n",
              "1993    171888  181061\n",
              "1994    172383  180197\n",
              "1995    171158  179864\n",
              "1996    169237  177393\n",
              "1997    169391  177423\n",
              "1998    170376  178616\n",
              "1999    171718  180033\n",
              "2000    176508  184030\n",
              "2001    177031  185351\n",
              "2002    175501  184444\n",
              "2003    177755  187045\n",
              "2004    175457  184593\n",
              "2005    180446  189599\n",
              "2006    189539  198942\n",
              "2007    191495  199622\n",
              "2008    183391  192714"
            ]
          },
          "metadata": {
            "tags": []
          },
          "execution_count": 12
        }
      ]
    },
    {
      "cell_type": "code",
      "metadata": {
        "colab": {
          "base_uri": "https://localhost:8080/",
          "height": 319
        },
        "id": "FVcXYUVX_nMp",
        "outputId": "7ace5a28-c5c0-4918-e28b-c3c576f79f38"
      },
      "source": [
        "plt.figure(figsize=(25,25))\n",
        "data.pivot_table('births', index = 'year', columns = 'gender', aggfunc = 'max').plot()\n",
        "plt.title(\"Estudio de nacimientos del periodo 1969 al 2008\")\n",
        "plt.ylabel(\"Total de nacimientos por años\")\n",
        "plt.xlabel(\"Años en estudio\")\n",
        "plt.show()"
      ],
      "execution_count": null,
      "outputs": [
        {
          "output_type": "display_data",
          "data": {
            "text/plain": [
              "<Figure size 1800x1800 with 0 Axes>"
            ]
          },
          "metadata": {
            "tags": []
          }
        },
        {
          "output_type": "display_data",
          "data": {
            "image/png": "[encoded data removed]",
            "text/plain": [
              "<Figure size 432x288 with 1 Axes>"
            ]
          },
          "metadata": {
            "tags": [],
            "needs_background": "light"
          }
        }
      ]
    },
    {
      "cell_type": "code",
      "metadata": {
        "colab": {
          "base_uri": "https://localhost:8080/",
          "height": 1000
        },
        "id": "j7bAicp3AApC",
        "outputId": "37804e61-9420-4dde-86ac-c03de5e39f4b"
      },
      "source": [
        "data.pivot_table('births', index = 'year', columns = 'gender', aggfunc = 'mean')"
      ],
      "execution_count": null,
      "outputs": [
        {
          "output_type": "execute_result",
          "data": {
            "text/html": [
              "<div>\n",
              "<style scoped>\n",
              "    .dataframe tbody tr th:only-of-type {\n",
              "        vertical-align: middle;\n",
              "    }\n",
              "\n",
              "    .dataframe tbody tr th {\n",
              "        vertical-align: top;\n",
              "    }\n",
              "\n",
              "    .dataframe thead th {\n",
              "        text-align: right;\n",
              "    }\n",
              "</style>\n",
              "<table border=\"1\" class=\"dataframe\">\n",
              "  <thead>\n",
              "    <tr style=\"text-align: right;\">\n",
              "      <th>gender</th>\n",
              "      <th>F</th>\n",
              "      <th>M</th>\n",
              "    </tr>\n",
              "    <tr>\n",
              "      <th>year</th>\n",
              "      <th></th>\n",
              "      <th></th>\n",
              "    </tr>\n",
              "  </thead>\n",
              "  <tbody>\n",
              "    <tr>\n",
              "      <th>1969</th>\n",
              "      <td>4566.755208</td>\n",
              "      <td>4808.781250</td>\n",
              "    </tr>\n",
              "    <tr>\n",
              "      <th>1970</th>\n",
              "      <td>4737.406250</td>\n",
              "      <td>4996.447917</td>\n",
              "    </tr>\n",
              "    <tr>\n",
              "      <th>1971</th>\n",
              "      <td>4558.461942</td>\n",
              "      <td>4769.644909</td>\n",
              "    </tr>\n",
              "    <tr>\n",
              "      <th>1972</th>\n",
              "      <td>4157.563969</td>\n",
              "      <td>4381.905759</td>\n",
              "    </tr>\n",
              "    <tr>\n",
              "      <th>1973</th>\n",
              "      <td>4034.478947</td>\n",
              "      <td>4222.573298</td>\n",
              "    </tr>\n",
              "    <tr>\n",
              "      <th>1974</th>\n",
              "      <td>4028.733681</td>\n",
              "      <td>4249.676240</td>\n",
              "    </tr>\n",
              "    <tr>\n",
              "      <th>1975</th>\n",
              "      <td>4019.753927</td>\n",
              "      <td>4246.745407</td>\n",
              "    </tr>\n",
              "    <tr>\n",
              "      <th>1976</th>\n",
              "      <td>4051.342932</td>\n",
              "      <td>4297.791557</td>\n",
              "    </tr>\n",
              "    <tr>\n",
              "      <th>1977</th>\n",
              "      <td>4238.545692</td>\n",
              "      <td>4520.624339</td>\n",
              "    </tr>\n",
              "    <tr>\n",
              "      <th>1978</th>\n",
              "      <td>4268.566929</td>\n",
              "      <td>4505.200000</td>\n",
              "    </tr>\n",
              "    <tr>\n",
              "      <th>1979</th>\n",
              "      <td>4585.583333</td>\n",
              "      <td>4783.888000</td>\n",
              "    </tr>\n",
              "    <tr>\n",
              "      <th>1980</th>\n",
              "      <td>4699.890667</td>\n",
              "      <td>4987.962366</td>\n",
              "    </tr>\n",
              "    <tr>\n",
              "      <th>1981</th>\n",
              "      <td>4763.540323</td>\n",
              "      <td>4995.919571</td>\n",
              "    </tr>\n",
              "    <tr>\n",
              "      <th>1982</th>\n",
              "      <td>4818.335121</td>\n",
              "      <td>5035.248000</td>\n",
              "    </tr>\n",
              "    <tr>\n",
              "      <th>1983</th>\n",
              "      <td>4734.130667</td>\n",
              "      <td>4993.374332</td>\n",
              "    </tr>\n",
              "    <tr>\n",
              "      <th>1984</th>\n",
              "      <td>4803.758713</td>\n",
              "      <td>5031.459893</td>\n",
              "    </tr>\n",
              "    <tr>\n",
              "      <th>1985</th>\n",
              "      <td>4972.287263</td>\n",
              "      <td>5245.353261</td>\n",
              "    </tr>\n",
              "    <tr>\n",
              "      <th>1986</th>\n",
              "      <td>4996.479564</td>\n",
              "      <td>5222.186992</td>\n",
              "    </tr>\n",
              "    <tr>\n",
              "      <th>1987</th>\n",
              "      <td>5068.422343</td>\n",
              "      <td>5336.352459</td>\n",
              "    </tr>\n",
              "    <tr>\n",
              "      <th>1988</th>\n",
              "      <td>5160.027027</td>\n",
              "      <td>5432.474255</td>\n",
              "    </tr>\n",
              "    <tr>\n",
              "      <th>1989</th>\n",
              "      <td>164476.000000</td>\n",
              "      <td>172665.083333</td>\n",
              "    </tr>\n",
              "    <tr>\n",
              "      <th>1990</th>\n",
              "      <td>169247.166667</td>\n",
              "      <td>177662.583333</td>\n",
              "    </tr>\n",
              "    <tr>\n",
              "      <th>1991</th>\n",
              "      <td>167633.416667</td>\n",
              "      <td>175311.750000</td>\n",
              "    </tr>\n",
              "    <tr>\n",
              "      <th>1992</th>\n",
              "      <td>165426.500000</td>\n",
              "      <td>173692.500000</td>\n",
              "    </tr>\n",
              "    <tr>\n",
              "      <th>1993</th>\n",
              "      <td>162788.000000</td>\n",
              "      <td>170922.250000</td>\n",
              "    </tr>\n",
              "    <tr>\n",
              "      <th>1994</th>\n",
              "      <td>161019.500000</td>\n",
              "      <td>168724.250000</td>\n",
              "    </tr>\n",
              "    <tr>\n",
              "      <th>1995</th>\n",
              "      <td>158739.250000</td>\n",
              "      <td>166511.750000</td>\n",
              "    </tr>\n",
              "    <tr>\n",
              "      <th>1996</th>\n",
              "      <td>158555.333333</td>\n",
              "      <td>166017.500000</td>\n",
              "    </tr>\n",
              "    <tr>\n",
              "      <th>1997</th>\n",
              "      <td>158077.333333</td>\n",
              "      <td>165616.750000</td>\n",
              "    </tr>\n",
              "    <tr>\n",
              "      <th>1998</th>\n",
              "      <td>160592.166667</td>\n",
              "      <td>168173.833333</td>\n",
              "    </tr>\n",
              "    <tr>\n",
              "      <th>1999</th>\n",
              "      <td>161209.166667</td>\n",
              "      <td>169079.583333</td>\n",
              "    </tr>\n",
              "    <tr>\n",
              "      <th>2000</th>\n",
              "      <td>165354.583333</td>\n",
              "      <td>173297.333333</td>\n",
              "    </tr>\n",
              "    <tr>\n",
              "      <th>2001</th>\n",
              "      <td>164230.833333</td>\n",
              "      <td>171730.083333</td>\n",
              "    </tr>\n",
              "    <tr>\n",
              "      <th>2002</th>\n",
              "      <td>163876.583333</td>\n",
              "      <td>171738.083333</td>\n",
              "    </tr>\n",
              "    <tr>\n",
              "      <th>2003</th>\n",
              "      <td>166615.583333</td>\n",
              "      <td>174725.416667</td>\n",
              "    </tr>\n",
              "    <tr>\n",
              "      <th>2004</th>\n",
              "      <td>167559.166667</td>\n",
              "      <td>175683.083333</td>\n",
              "    </tr>\n",
              "    <tr>\n",
              "      <th>2005</th>\n",
              "      <td>168574.333333</td>\n",
              "      <td>176893.916667</td>\n",
              "    </tr>\n",
              "    <tr>\n",
              "      <th>2006</th>\n",
              "      <td>173746.416667</td>\n",
              "      <td>182355.666667</td>\n",
              "    </tr>\n",
              "    <tr>\n",
              "      <th>2007</th>\n",
              "      <td>175990.833333</td>\n",
              "      <td>184343.166667</td>\n",
              "    </tr>\n",
              "    <tr>\n",
              "      <th>2008</th>\n",
              "      <td>173160.750000</td>\n",
              "      <td>181435.583333</td>\n",
              "    </tr>\n",
              "  </tbody>\n",
              "</table>\n",
              "</div>"
            ],
            "text/plain": [
              "gender              F              M\n",
              "year                                \n",
              "1969      4566.755208    4808.781250\n",
              "1970      4737.406250    4996.447917\n",
              "1971      4558.461942    4769.644909\n",
              "1972      4157.563969    4381.905759\n",
              "1973      4034.478947    4222.573298\n",
              "1974      4028.733681    4249.676240\n",
              "1975      4019.753927    4246.745407\n",
              "1976      4051.342932    4297.791557\n",
              "1977      4238.545692    4520.624339\n",
              "1978      4268.566929    4505.200000\n",
              "1979      4585.583333    4783.888000\n",
              "1980      4699.890667    4987.962366\n",
              "1981      4763.540323    4995.919571\n",
              "1982      4818.335121    5035.248000\n",
              "1983      4734.130667    4993.374332\n",
              "1984      4803.758713    5031.459893\n",
              "1985      4972.287263    5245.353261\n",
              "1986      4996.479564    5222.186992\n",
              "1987      5068.422343    5336.352459\n",
              "1988      5160.027027    5432.474255\n",
              "1989    164476.000000  172665.083333\n",
              "1990    169247.166667  177662.583333\n",
              "1991    167633.416667  175311.750000\n",
              "1992    165426.500000  173692.500000\n",
              "1993    162788.000000  170922.250000\n",
              "1994    161019.500000  168724.250000\n",
              "1995    158739.250000  166511.750000\n",
              "1996    158555.333333  166017.500000\n",
              "1997    158077.333333  165616.750000\n",
              "1998    160592.166667  168173.833333\n",
              "1999    161209.166667  169079.583333\n",
              "2000    165354.583333  173297.333333\n",
              "2001    164230.833333  171730.083333\n",
              "2002    163876.583333  171738.083333\n",
              "2003    166615.583333  174725.416667\n",
              "2004    167559.166667  175683.083333\n",
              "2005    168574.333333  176893.916667\n",
              "2006    173746.416667  182355.666667\n",
              "2007    175990.833333  184343.166667\n",
              "2008    173160.750000  181435.583333"
            ]
          },
          "metadata": {
            "tags": []
          },
          "execution_count": 14
        }
      ]
    },
    {
      "cell_type": "code",
      "metadata": {
        "colab": {
          "base_uri": "https://localhost:8080/"
        },
        "id": "ke0-WfLiAJpv",
        "outputId": "8ac6cd9d-b76a-447d-8baa-c2ccc0bc041a"
      },
      "source": [
        "# Feature Engineering\n",
        "(1956//10)*10"
      ],
      "execution_count": null,
      "outputs": [
        {
          "output_type": "execute_result",
          "data": {
            "text/plain": [
              "1950"
            ]
          },
          "metadata": {
            "tags": []
          },
          "execution_count": 15
        }
      ]
    },
    {
      "cell_type": "code",
      "metadata": {
        "id": "vzS5eOoJBOVq"
      },
      "source": [
        "data['decade'] = (data['year']//10)*10"
      ],
      "execution_count": null,
      "outputs": []
    },
    {
      "cell_type": "code",
      "metadata": {
        "colab": {
          "base_uri": "https://localhost:8080/",
          "height": 206
        },
        "id": "wlrCzcZXBW7a",
        "outputId": "c1a36a80-4172-42e3-f0ac-43ba37be9719"
      },
      "source": [
        "data.head()"
      ],
      "execution_count": null,
      "outputs": [
        {
          "output_type": "execute_result",
          "data": {
            "text/html": [
              "<div>\n",
              "<style scoped>\n",
              "    .dataframe tbody tr th:only-of-type {\n",
              "        vertical-align: middle;\n",
              "    }\n",
              "\n",
              "    .dataframe tbody tr th {\n",
              "        vertical-align: top;\n",
              "    }\n",
              "\n",
              "    .dataframe thead th {\n",
              "        text-align: right;\n",
              "    }\n",
              "</style>\n",
              "<table border=\"1\" class=\"dataframe\">\n",
              "  <thead>\n",
              "    <tr style=\"text-align: right;\">\n",
              "      <th></th>\n",
              "      <th>year</th>\n",
              "      <th>month</th>\n",
              "      <th>day</th>\n",
              "      <th>gender</th>\n",
              "      <th>births</th>\n",
              "      <th>decade</th>\n",
              "    </tr>\n",
              "  </thead>\n",
              "  <tbody>\n",
              "    <tr>\n",
              "      <th>0</th>\n",
              "      <td>1969</td>\n",
              "      <td>1</td>\n",
              "      <td>1.0</td>\n",
              "      <td>F</td>\n",
              "      <td>4046</td>\n",
              "      <td>1960</td>\n",
              "    </tr>\n",
              "    <tr>\n",
              "      <th>1</th>\n",
              "      <td>1969</td>\n",
              "      <td>1</td>\n",
              "      <td>1.0</td>\n",
              "      <td>M</td>\n",
              "      <td>4440</td>\n",
              "      <td>1960</td>\n",
              "    </tr>\n",
              "    <tr>\n",
              "      <th>2</th>\n",
              "      <td>1969</td>\n",
              "      <td>1</td>\n",
              "      <td>2.0</td>\n",
              "      <td>F</td>\n",
              "      <td>4454</td>\n",
              "      <td>1960</td>\n",
              "    </tr>\n",
              "    <tr>\n",
              "      <th>3</th>\n",
              "      <td>1969</td>\n",
              "      <td>1</td>\n",
              "      <td>2.0</td>\n",
              "      <td>M</td>\n",
              "      <td>4548</td>\n",
              "      <td>1960</td>\n",
              "    </tr>\n",
              "    <tr>\n",
              "      <th>4</th>\n",
              "      <td>1969</td>\n",
              "      <td>1</td>\n",
              "      <td>3.0</td>\n",
              "      <td>F</td>\n",
              "      <td>4548</td>\n",
              "      <td>1960</td>\n",
              "    </tr>\n",
              "  </tbody>\n",
              "</table>\n",
              "</div>"
            ],
            "text/plain": [
              "   year  month  day gender  births  decade\n",
              "0  1969      1  1.0      F    4046    1960\n",
              "1  1969      1  1.0      M    4440    1960\n",
              "2  1969      1  2.0      F    4454    1960\n",
              "3  1969      1  2.0      M    4548    1960\n",
              "4  1969      1  3.0      F    4548    1960"
            ]
          },
          "metadata": {
            "tags": []
          },
          "execution_count": 17
        }
      ]
    },
    {
      "cell_type": "code",
      "metadata": {
        "colab": {
          "base_uri": "https://localhost:8080/",
          "height": 237
        },
        "id": "pGO0Eut6BaBm",
        "outputId": "18cb563c-c21b-4e2a-d6b0-21b104cb4ace"
      },
      "source": [
        "data.pivot_table('births', index = 'decade', columns = 'gender', aggfunc = 'sum')"
      ],
      "execution_count": null,
      "outputs": [
        {
          "output_type": "execute_result",
          "data": {
            "text/html": [
              "<div>\n",
              "<style scoped>\n",
              "    .dataframe tbody tr th:only-of-type {\n",
              "        vertical-align: middle;\n",
              "    }\n",
              "\n",
              "    .dataframe tbody tr th {\n",
              "        vertical-align: top;\n",
              "    }\n",
              "\n",
              "    .dataframe thead th {\n",
              "        text-align: right;\n",
              "    }\n",
              "</style>\n",
              "<table border=\"1\" class=\"dataframe\">\n",
              "  <thead>\n",
              "    <tr style=\"text-align: right;\">\n",
              "      <th>gender</th>\n",
              "      <th>F</th>\n",
              "      <th>M</th>\n",
              "    </tr>\n",
              "    <tr>\n",
              "      <th>decade</th>\n",
              "      <th></th>\n",
              "      <th></th>\n",
              "    </tr>\n",
              "  </thead>\n",
              "  <tbody>\n",
              "    <tr>\n",
              "      <th>1960</th>\n",
              "      <td>1753634</td>\n",
              "      <td>1846572</td>\n",
              "    </tr>\n",
              "    <tr>\n",
              "      <th>1970</th>\n",
              "      <td>16263075</td>\n",
              "      <td>17121550</td>\n",
              "    </tr>\n",
              "    <tr>\n",
              "      <th>1980</th>\n",
              "      <td>18310351</td>\n",
              "      <td>19243452</td>\n",
              "    </tr>\n",
              "    <tr>\n",
              "      <th>1990</th>\n",
              "      <td>19479454</td>\n",
              "      <td>20420553</td>\n",
              "    </tr>\n",
              "    <tr>\n",
              "      <th>2000</th>\n",
              "      <td>18229309</td>\n",
              "      <td>19106428</td>\n",
              "    </tr>\n",
              "  </tbody>\n",
              "</table>\n",
              "</div>"
            ],
            "text/plain": [
              "gender         F         M\n",
              "decade                    \n",
              "1960     1753634   1846572\n",
              "1970    16263075  17121550\n",
              "1980    18310351  19243452\n",
              "1990    19479454  20420553\n",
              "2000    18229309  19106428"
            ]
          },
          "metadata": {
            "tags": []
          },
          "execution_count": 18
        }
      ]
    },
    {
      "cell_type": "code",
      "metadata": {
        "colab": {
          "base_uri": "https://localhost:8080/",
          "height": 319
        },
        "id": "bU5UNmYLBkWb",
        "outputId": "469067ba-ee47-4d9c-92aa-4c5e6b62187b"
      },
      "source": [
        "plt.figure(figsize=(25,25))\n",
        "data.pivot_table('births', index = 'decade', columns = 'gender', aggfunc = 'max').plot()\n",
        "plt.title(\"Estudio de nacimientos por decadas\")\n",
        "plt.ylabel(\"Total de nacimientos por decadas\")\n",
        "plt.xlabel(\"Decadas en estudio\")\n",
        "plt.show()"
      ],
      "execution_count": null,
      "outputs": [
        {
          "output_type": "display_data",
          "data": {
            "text/plain": [
              "<Figure size 1800x1800 with 0 Axes>"
            ]
          },
          "metadata": {
            "tags": []
          }
        },
        {
          "output_type": "display_data",
          "data": {
            "image/png": "[encoded data removed]",
            "text/plain": [
              "<Figure size 432x288 with 1 Axes>"
            ]
          },
          "metadata": {
            "tags": [],
            "needs_background": "light"
          }
        }
      ]
    },
    {
      "cell_type": "code",
      "metadata": {
        "colab": {
          "base_uri": "https://localhost:8080/",
          "height": 279
        },
        "id": "s9yi4sDECGLC",
        "outputId": "5c13442b-75ed-4280-c2dc-1ee1fa08871d"
      },
      "source": [
        "data.pivot_table('births', index = 'year', columns = 'gender', aggfunc = 'sum').boxplot()\n",
        "plt.show()\n"
      ],
      "execution_count": null,
      "outputs": [
        {
          "output_type": "display_data",
          "data": {
            "image/png": "[encoded data removed]",
            "text/plain": [
              "<Figure size 432x288 with 1 Axes>"
            ]
          },
          "metadata": {
            "tags": [],
            "needs_background": "light"
          }
        }
      ]
    },
    {
      "cell_type": "code",
      "metadata": {
        "colab": {
          "base_uri": "https://localhost:8080/"
        },
        "id": "LA4_QIiUCNqo",
        "outputId": "50076b40-c8d5-447a-feb5-dd9fbc43eb28"
      },
      "source": [
        "# Rango intercuartilico\n",
        "\n",
        "quantiles = np.percentile(data[\"births\"], [25, 50, 75])\n",
        "quantiles"
      ],
      "execution_count": null,
      "outputs": [
        {
          "output_type": "execute_result",
          "data": {
            "text/plain": [
              "array([4358. , 4814. , 5289.5])"
            ]
          },
          "metadata": {
            "tags": []
          },
          "execution_count": 21
        }
      ]
    },
    {
      "cell_type": "code",
      "metadata": {
        "id": "9aYR_qVqDT1i"
      },
      "source": [
        "median = quantiles[1]\n",
        "IQR = quantiles[2]-quantiles[0]\n",
        "sigma = 0.75*IQR "
      ],
      "execution_count": null,
      "outputs": []
    },
    {
      "cell_type": "code",
      "metadata": {
        "colab": {
          "base_uri": "https://localhost:8080/"
        },
        "id": "QLN66VuEEKaR",
        "outputId": "7b412efd-de6b-47a1-bc50-d187c7eb894d"
      },
      "source": [
        "sigma"
      ],
      "execution_count": null,
      "outputs": [
        {
          "output_type": "execute_result",
          "data": {
            "text/plain": [
              "698.625"
            ]
          },
          "metadata": {
            "tags": []
          },
          "execution_count": 39
        }
      ]
    },
    {
      "cell_type": "code",
      "metadata": {
        "colab": {
          "base_uri": "https://localhost:8080/"
        },
        "id": "NeYjeb8JEME9",
        "outputId": "302ddccf-afbd-4a5a-9ca5-067b6f1624d0"
      },
      "source": [
        "4814 + 698.625"
      ],
      "execution_count": null,
      "outputs": [
        {
          "output_type": "execute_result",
          "data": {
            "text/plain": [
              "5512.625"
            ]
          },
          "metadata": {
            "tags": []
          },
          "execution_count": 30
        }
      ]
    },
    {
      "cell_type": "code",
      "metadata": {
        "colab": {
          "base_uri": "https://localhost:8080/"
        },
        "id": "r5MZg6K_EesA",
        "outputId": "d2ad9837-0eb8-4b79-d3be-9eae22ae8824"
      },
      "source": [
        "4814 - sigma"
      ],
      "execution_count": null,
      "outputs": [
        {
          "output_type": "execute_result",
          "data": {
            "text/plain": [
              "4115.375"
            ]
          },
          "metadata": {
            "tags": []
          },
          "execution_count": 31
        }
      ]
    },
    {
      "cell_type": "code",
      "metadata": {
        "id": "mEbm9qy6EgbE"
      },
      "source": [
        "data = data.query(\"(births > @median - 5*@sigma) & (births < @median + 5*@sigma)\")"
      ],
      "execution_count": null,
      "outputs": []
    },
    {
      "cell_type": "code",
      "metadata": {
        "colab": {
          "base_uri": "https://localhost:8080/"
        },
        "id": "FCWX-rREFJou",
        "outputId": "7d595f9c-b2cd-400d-d7ac-062565fbefe2"
      },
      "source": [
        "data.shape"
      ],
      "execution_count": null,
      "outputs": [
        {
          "output_type": "execute_result",
          "data": {
            "text/plain": [
              "(51, 6)"
            ]
          },
          "metadata": {
            "tags": []
          },
          "execution_count": 37
        }
      ]
    },
    {
      "cell_type": "code",
      "metadata": {
        "colab": {
          "base_uri": "https://localhost:8080/",
          "height": 323
        },
        "id": "U9wNAbPlFM73",
        "outputId": "bf01bb46-322e-4420-c9ff-0243a1135fd7"
      },
      "source": [
        "data.pivot_table('births', index = 'year', columns = 'gender', aggfunc = 'sum').boxplot()\n",
        "plt.show()"
      ],
      "execution_count": null,
      "outputs": [
        {
          "output_type": "stream",
          "text": [
            "/usr/local/lib/python3.7/dist-packages/numpy/core/_asarray.py:83: VisibleDeprecationWarning: Creating an ndarray from ragged nested sequences (which is a list-or-tuple of lists-or-tuples-or ndarrays with different lengths or shapes) is deprecated. If you meant to do this, you must specify 'dtype=object' when creating the ndarray\n",
            "  return array(a, dtype, copy=False, order=order)\n"
          ],
          "name": "stderr"
        },
        {
          "output_type": "display_data",
          "data": {
            "image/png": "[encoded data removed]",
            "text/plain": [
              "<Figure size 432x288 with 1 Axes>"
            ]
          },
          "metadata": {
            "tags": [],
            "needs_background": "light"
          }
        }
      ]
    },
    {
      "cell_type": "code",
      "metadata": {
        "id": "vawar_GtF0vG"
      },
      "source": [
        "# Serie de tiempo\n",
        "data['day'] = data['day'].astype(int)"
      ],
      "execution_count": null,
      "outputs": []
    },
    {
      "cell_type": "code",
      "metadata": {
        "colab": {
          "base_uri": "https://localhost:8080/",
          "height": 206
        },
        "id": "kf9hLdC_HU0P",
        "outputId": "5f02e04a-7975-4325-ea7f-31b57f9ba2df"
      },
      "source": [
        "data.head(5)"
      ],
      "execution_count": null,
      "outputs": [
        {
          "output_type": "execute_result",
          "data": {
            "text/html": [
              "<div>\n",
              "<style scoped>\n",
              "    .dataframe tbody tr th:only-of-type {\n",
              "        vertical-align: middle;\n",
              "    }\n",
              "\n",
              "    .dataframe tbody tr th {\n",
              "        vertical-align: top;\n",
              "    }\n",
              "\n",
              "    .dataframe thead th {\n",
              "        text-align: right;\n",
              "    }\n",
              "</style>\n",
              "<table border=\"1\" class=\"dataframe\">\n",
              "  <thead>\n",
              "    <tr style=\"text-align: right;\">\n",
              "      <th></th>\n",
              "      <th>year</th>\n",
              "      <th>month</th>\n",
              "      <th>day</th>\n",
              "      <th>gender</th>\n",
              "      <th>births</th>\n",
              "      <th>decade</th>\n",
              "    </tr>\n",
              "  </thead>\n",
              "  <tbody>\n",
              "    <tr>\n",
              "      <th>3047</th>\n",
              "      <td>1972</td>\n",
              "      <td>12</td>\n",
              "      <td>24</td>\n",
              "      <td>F</td>\n",
              "      <td>3411</td>\n",
              "      <td>1970</td>\n",
              "    </tr>\n",
              "    <tr>\n",
              "      <th>3281</th>\n",
              "      <td>1973</td>\n",
              "      <td>4</td>\n",
              "      <td>15</td>\n",
              "      <td>F</td>\n",
              "      <td>3468</td>\n",
              "      <td>1970</td>\n",
              "    </tr>\n",
              "    <tr>\n",
              "      <th>3295</th>\n",
              "      <td>1973</td>\n",
              "      <td>4</td>\n",
              "      <td>22</td>\n",
              "      <td>F</td>\n",
              "      <td>3323</td>\n",
              "      <td>1970</td>\n",
              "    </tr>\n",
              "    <tr>\n",
              "      <th>3309</th>\n",
              "      <td>1973</td>\n",
              "      <td>4</td>\n",
              "      <td>29</td>\n",
              "      <td>F</td>\n",
              "      <td>3249</td>\n",
              "      <td>1970</td>\n",
              "    </tr>\n",
              "    <tr>\n",
              "      <th>3326</th>\n",
              "      <td>1973</td>\n",
              "      <td>5</td>\n",
              "      <td>6</td>\n",
              "      <td>F</td>\n",
              "      <td>3378</td>\n",
              "      <td>1970</td>\n",
              "    </tr>\n",
              "  </tbody>\n",
              "</table>\n",
              "</div>"
            ],
            "text/plain": [
              "      year  month  day gender  births  decade\n",
              "3047  1972     12   24      F    3411    1970\n",
              "3281  1973      4   15      F    3468    1970\n",
              "3295  1973      4   22      F    3323    1970\n",
              "3309  1973      4   29      F    3249    1970\n",
              "3326  1973      5    6      F    3378    1970"
            ]
          },
          "metadata": {
            "tags": []
          },
          "execution_count": 42
        }
      ]
    },
    {
      "cell_type": "code",
      "metadata": {
        "id": "xPJOpvXWHWI6"
      },
      "source": [
        "data.index = pd.to_datetime(10000*data.year+100*data.month+data.day, format= \"%Y%m%d\")"
      ],
      "execution_count": null,
      "outputs": []
    },
    {
      "cell_type": "code",
      "metadata": {
        "colab": {
          "base_uri": "https://localhost:8080/",
          "height": 206
        },
        "id": "SADczHFZIZmW",
        "outputId": "b1f4705a-ab5a-4920-e8eb-1a3edd40f206"
      },
      "source": [
        "data.head()"
      ],
      "execution_count": null,
      "outputs": [
        {
          "output_type": "execute_result",
          "data": {
            "text/html": [
              "<div>\n",
              "<style scoped>\n",
              "    .dataframe tbody tr th:only-of-type {\n",
              "        vertical-align: middle;\n",
              "    }\n",
              "\n",
              "    .dataframe tbody tr th {\n",
              "        vertical-align: top;\n",
              "    }\n",
              "\n",
              "    .dataframe thead th {\n",
              "        text-align: right;\n",
              "    }\n",
              "</style>\n",
              "<table border=\"1\" class=\"dataframe\">\n",
              "  <thead>\n",
              "    <tr style=\"text-align: right;\">\n",
              "      <th></th>\n",
              "      <th>year</th>\n",
              "      <th>month</th>\n",
              "      <th>day</th>\n",
              "      <th>gender</th>\n",
              "      <th>births</th>\n",
              "      <th>decade</th>\n",
              "    </tr>\n",
              "  </thead>\n",
              "  <tbody>\n",
              "    <tr>\n",
              "      <th>1972-12-24</th>\n",
              "      <td>1972</td>\n",
              "      <td>12</td>\n",
              "      <td>24</td>\n",
              "      <td>F</td>\n",
              "      <td>3411</td>\n",
              "      <td>1970</td>\n",
              "    </tr>\n",
              "    <tr>\n",
              "      <th>1973-04-15</th>\n",
              "      <td>1973</td>\n",
              "      <td>4</td>\n",
              "      <td>15</td>\n",
              "      <td>F</td>\n",
              "      <td>3468</td>\n",
              "      <td>1970</td>\n",
              "    </tr>\n",
              "    <tr>\n",
              "      <th>1973-04-22</th>\n",
              "      <td>1973</td>\n",
              "      <td>4</td>\n",
              "      <td>22</td>\n",
              "      <td>F</td>\n",
              "      <td>3323</td>\n",
              "      <td>1970</td>\n",
              "    </tr>\n",
              "    <tr>\n",
              "      <th>1973-04-29</th>\n",
              "      <td>1973</td>\n",
              "      <td>4</td>\n",
              "      <td>29</td>\n",
              "      <td>F</td>\n",
              "      <td>3249</td>\n",
              "      <td>1970</td>\n",
              "    </tr>\n",
              "    <tr>\n",
              "      <th>1973-05-06</th>\n",
              "      <td>1973</td>\n",
              "      <td>5</td>\n",
              "      <td>6</td>\n",
              "      <td>F</td>\n",
              "      <td>3378</td>\n",
              "      <td>1970</td>\n",
              "    </tr>\n",
              "  </tbody>\n",
              "</table>\n",
              "</div>"
            ],
            "text/plain": [
              "            year  month  day gender  births  decade\n",
              "1972-12-24  1972     12   24      F    3411    1970\n",
              "1973-04-15  1973      4   15      F    3468    1970\n",
              "1973-04-22  1973      4   22      F    3323    1970\n",
              "1973-04-29  1973      4   29      F    3249    1970\n",
              "1973-05-06  1973      5    6      F    3378    1970"
            ]
          },
          "metadata": {
            "tags": []
          },
          "execution_count": 44
        }
      ]
    },
    {
      "cell_type": "code",
      "metadata": {
        "id": "Y2o83oqKIcOb"
      },
      "source": [
        "data['dayofweek'] = data.index.dayofweek"
      ],
      "execution_count": null,
      "outputs": []
    },
    {
      "cell_type": "code",
      "metadata": {
        "colab": {
          "base_uri": "https://localhost:8080/",
          "height": 206
        },
        "id": "9WZIRGxwI0-y",
        "outputId": "4a63938a-8bcc-4ffb-d134-245fa63c56a1"
      },
      "source": [
        "data.head()"
      ],
      "execution_count": null,
      "outputs": [
        {
          "output_type": "execute_result",
          "data": {
            "text/html": [
              "<div>\n",
              "<style scoped>\n",
              "    .dataframe tbody tr th:only-of-type {\n",
              "        vertical-align: middle;\n",
              "    }\n",
              "\n",
              "    .dataframe tbody tr th {\n",
              "        vertical-align: top;\n",
              "    }\n",
              "\n",
              "    .dataframe thead th {\n",
              "        text-align: right;\n",
              "    }\n",
              "</style>\n",
              "<table border=\"1\" class=\"dataframe\">\n",
              "  <thead>\n",
              "    <tr style=\"text-align: right;\">\n",
              "      <th></th>\n",
              "      <th>year</th>\n",
              "      <th>month</th>\n",
              "      <th>day</th>\n",
              "      <th>gender</th>\n",
              "      <th>births</th>\n",
              "      <th>decade</th>\n",
              "      <th>dayofweek</th>\n",
              "    </tr>\n",
              "  </thead>\n",
              "  <tbody>\n",
              "    <tr>\n",
              "      <th>1972-12-24</th>\n",
              "      <td>1972</td>\n",
              "      <td>12</td>\n",
              "      <td>24</td>\n",
              "      <td>F</td>\n",
              "      <td>3411</td>\n",
              "      <td>1970</td>\n",
              "      <td>6</td>\n",
              "    </tr>\n",
              "    <tr>\n",
              "      <th>1973-04-15</th>\n",
              "      <td>1973</td>\n",
              "      <td>4</td>\n",
              "      <td>15</td>\n",
              "      <td>F</td>\n",
              "      <td>3468</td>\n",
              "      <td>1970</td>\n",
              "      <td>6</td>\n",
              "    </tr>\n",
              "    <tr>\n",
              "      <th>1973-04-22</th>\n",
              "      <td>1973</td>\n",
              "      <td>4</td>\n",
              "      <td>22</td>\n",
              "      <td>F</td>\n",
              "      <td>3323</td>\n",
              "      <td>1970</td>\n",
              "      <td>6</td>\n",
              "    </tr>\n",
              "    <tr>\n",
              "      <th>1973-04-29</th>\n",
              "      <td>1973</td>\n",
              "      <td>4</td>\n",
              "      <td>29</td>\n",
              "      <td>F</td>\n",
              "      <td>3249</td>\n",
              "      <td>1970</td>\n",
              "      <td>6</td>\n",
              "    </tr>\n",
              "    <tr>\n",
              "      <th>1973-05-06</th>\n",
              "      <td>1973</td>\n",
              "      <td>5</td>\n",
              "      <td>6</td>\n",
              "      <td>F</td>\n",
              "      <td>3378</td>\n",
              "      <td>1970</td>\n",
              "      <td>6</td>\n",
              "    </tr>\n",
              "  </tbody>\n",
              "</table>\n",
              "</div>"
            ],
            "text/plain": [
              "            year  month  day gender  births  decade  dayofweek\n",
              "1972-12-24  1972     12   24      F    3411    1970          6\n",
              "1973-04-15  1973      4   15      F    3468    1970          6\n",
              "1973-04-22  1973      4   22      F    3323    1970          6\n",
              "1973-04-29  1973      4   29      F    3249    1970          6\n",
              "1973-05-06  1973      5    6      F    3378    1970          6"
            ]
          },
          "metadata": {
            "tags": []
          },
          "execution_count": 48
        }
      ]
    },
    {
      "cell_type": "code",
      "metadata": {
        "colab": {
          "base_uri": "https://localhost:8080/",
          "height": 285
        },
        "id": "DkA8qvfHJCY4",
        "outputId": "6dd70dcb-9e26-49b4-c492-a064529f2c68"
      },
      "source": [
        "# Grafica de nacimientos\n",
        "\n",
        "data.pivot_table('births', index = 'dayofweek', columns = 'decade', aggfunc = 'sum').plot()\n",
        "plt.gca().set_xticklabels([\"\",\"Lun\", \"Mar\", \"Mier\", \"Jue\", \"Vier\", \"Sab\", \"Don\"])\n",
        "plt.ylabel(\"Media de nacimientos por dia\")\n",
        "plt.show()"
      ],
      "execution_count": null,
      "outputs": [
        {
          "output_type": "display_data",
          "data": {
            "image/png": "[encoded data removed]",
            "text/plain": [
              "<Figure size 432x288 with 1 Axes>"
            ]
          },
          "metadata": {
            "tags": [],
            "needs_background": "light"
          }
        }
      ]
    },
    {
      "cell_type": "code",
      "metadata": {
        "id": "MUoWK-HwJzNb"
      },
      "source": [
        "data_by_data = data.pivot_table(\"births\", index = [data.index.month, data.index.day], aggfunc = \"mean\")"
      ],
      "execution_count": null,
      "outputs": []
    },
    {
      "cell_type": "code",
      "metadata": {
        "colab": {
          "base_uri": "https://localhost:8080/",
          "height": 206
        },
        "id": "axjicRGaLbH6",
        "outputId": "6ebf7469-281f-4a05-feb5-597383be4be9"
      },
      "source": [
        "data_by_data.head()"
      ],
      "execution_count": null,
      "outputs": [
        {
          "output_type": "execute_result",
          "data": {
            "text/html": [
              "<div>\n",
              "<style scoped>\n",
              "    .dataframe tbody tr th:only-of-type {\n",
              "        vertical-align: middle;\n",
              "    }\n",
              "\n",
              "    .dataframe tbody tr th {\n",
              "        vertical-align: top;\n",
              "    }\n",
              "\n",
              "    .dataframe thead th {\n",
              "        text-align: right;\n",
              "    }\n",
              "</style>\n",
              "<table border=\"1\" class=\"dataframe\">\n",
              "  <thead>\n",
              "    <tr style=\"text-align: right;\">\n",
              "      <th></th>\n",
              "      <th></th>\n",
              "      <th>births</th>\n",
              "    </tr>\n",
              "  </thead>\n",
              "  <tbody>\n",
              "    <tr>\n",
              "      <th rowspan=\"2\" valign=\"top\">1</th>\n",
              "      <th>1</th>\n",
              "      <td>3390.0</td>\n",
              "    </tr>\n",
              "    <tr>\n",
              "      <th>6</th>\n",
              "      <td>3478.0</td>\n",
              "    </tr>\n",
              "    <tr>\n",
              "      <th rowspan=\"2\" valign=\"top\">2</th>\n",
              "      <th>10</th>\n",
              "      <td>3450.0</td>\n",
              "    </tr>\n",
              "    <tr>\n",
              "      <th>15</th>\n",
              "      <td>3456.0</td>\n",
              "    </tr>\n",
              "    <tr>\n",
              "      <th>3</th>\n",
              "      <th>24</th>\n",
              "      <td>3484.0</td>\n",
              "    </tr>\n",
              "  </tbody>\n",
              "</table>\n",
              "</div>"
            ],
            "text/plain": [
              "      births\n",
              "1 1   3390.0\n",
              "  6   3478.0\n",
              "2 10  3450.0\n",
              "  15  3456.0\n",
              "3 24  3484.0"
            ]
          },
          "metadata": {
            "tags": []
          },
          "execution_count": 53
        }
      ]
    },
    {
      "cell_type": "code",
      "metadata": {
        "id": "kLdryTwmLb66"
      },
      "source": [
        ""
      ],
      "execution_count": null,
      "outputs": []
    }
  ]
}